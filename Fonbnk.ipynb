{
 "cells": [
  {
   "cell_type": "code",
   "execution_count": null,
   "id": "cc9761f5",
   "metadata": {},
   "outputs": [],
   "source": [
    "import telebot\n",
    "import requests\n",
    "\n",
    "TOKEN = \"ENTER TOKEN\"\n",
    "MERCHANT_ID = \"ENTER MERCHANT\"\n",
    "API_KEY = \"ENTER API\"\n",
    "SOURCE_PARAM = \"ENTER SOURCE PARAM\"\n",
    "\n",
    "bot = telebot.TeleBot(TOKEN)\n",
    "\n",
    "@bot.message_handler(commands=[\"start\"])\n",
    "def start(message):\n",
    "    bot.send_message(message.chat.id, \"Hello Welcome! Would you like to create a quick payment link on Fonbnk? (Yes or No)\")\n",
    "\n",
    "@bot.message_handler(func=lambda message: message.text == \"Yes\")\n",
    "def generate_payment_link(message):\n",
    "    \"\"\"Redirect the user to the payment link generator on Fonbnk.\"\"\"\n",
    "\n",
    "    url = f\"https://pay.fonbnk.com/merchant\"\n",
    "    bot.send_message(message.chat.id, f\"Please click on the following link to create a payment link and charge your clients: {url}\")\n",
    "\n",
    "if __name__ == \"__main__\":\n",
    "    bot.polling()\n"
   ]
  },
  {
   "cell_type": "code",
   "execution_count": null,
   "id": "3c6457d7",
   "metadata": {},
   "outputs": [],
   "source": []
  }
 ],
 "metadata": {
  "kernelspec": {
   "display_name": "Python 3 (ipykernel)",
   "language": "python",
   "name": "python3"
  },
  "language_info": {
   "codemirror_mode": {
    "name": "ipython",
    "version": 3
   },
   "file_extension": ".py",
   "mimetype": "text/x-python",
   "name": "python",
   "nbconvert_exporter": "python",
   "pygments_lexer": "ipython3",
   "version": "3.9.12"
  }
 },
 "nbformat": 4,
 "nbformat_minor": 5
}
